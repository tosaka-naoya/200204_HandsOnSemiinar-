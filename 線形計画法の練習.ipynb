{
  "nbformat": 4,
  "nbformat_minor": 0,
  "metadata": {
    "colab": {
      "name": "線形計画法の練習.ipynb",
      "provenance": [],
      "collapsed_sections": [],
      "authorship_tag": "ABX9TyOK2sJQndFx6q68hmNIHjM9",
      "include_colab_link": true
    },
    "kernelspec": {
      "name": "python3",
      "display_name": "Python 3"
    },
    "language_info": {
      "name": "python"
    }
  },
  "cells": [
    {
      "cell_type": "markdown",
      "metadata": {
        "id": "view-in-github",
        "colab_type": "text"
      },
      "source": [
        "<a href=\"https://colab.research.google.com/github/tosaka-naoya/200204_HandsOnSemiinar-/blob/main/%E7%B7%9A%E5%BD%A2%E8%A8%88%E7%94%BB%E6%B3%95%E3%81%AE%E7%B7%B4%E7%BF%92.ipynb\" target=\"_parent\"><img src=\"https://colab.research.google.com/assets/colab-badge.svg\" alt=\"Open In Colab\"/></a>"
      ]
    },
    {
      "cell_type": "code",
      "metadata": {
        "colab": {
          "base_uri": "https://localhost:8080/"
        },
        "id": "Q-6Ox3D4uzCz",
        "outputId": "1d0d4976-5048-455c-ee30-068f143c6312"
      },
      "source": [
        "#ライブラリのインポート\n",
        "!pip install pulp\n",
        "import pulp\n",
        "from pulp import *\n",
        "\n",
        "#問題の定義\n",
        "m = LpProblem(sense=LpMaximize)\n",
        "\n",
        "#変数の定義\n",
        "x = LpVariable('x', lowBound=0)\n",
        "y = LpVariable('y', lowBound=0)\n",
        "\n",
        "#目的関数の定義\n",
        "m += 100 * x + 100 * y\n",
        "\n",
        "#制約条件の定義\n",
        "m += x + 2 * y <= 16\n",
        "m += 3 * x + y <= 18\n",
        "\n",
        "#ソルバー実行\n",
        "m.solve()\n",
        "\n",
        "#結果表示\n",
        "print(value(x), value(y))"
      ],
      "execution_count": 1,
      "outputs": [
        {
          "output_type": "stream",
          "text": [
            "Requirement already satisfied: pulp in /usr/local/lib/python3.7/dist-packages (2.4)\n",
            "Requirement already satisfied: amply>=0.1.2 in /usr/local/lib/python3.7/dist-packages (from pulp) (0.1.4)\n",
            "Requirement already satisfied: pyparsing in /usr/local/lib/python3.7/dist-packages (from amply>=0.1.2->pulp) (2.4.7)\n",
            "Requirement already satisfied: docutils>=0.3 in /usr/local/lib/python3.7/dist-packages (from amply>=0.1.2->pulp) (0.17.1)\n",
            "4.0 6.0\n"
          ],
          "name": "stdout"
        }
      ]
    },
    {
      "cell_type": "markdown",
      "metadata": {
        "id": "fgCUKDekyp9H"
      },
      "source": [
        ""
      ]
    },
    {
      "cell_type": "code",
      "metadata": {
        "id": "KDx3FjDOxbhf"
      },
      "source": [
        "このサイトの練習問題を写経\n",
        "https://qiita.com/SaitoTsutomu/items/070ca9cb37c6b2b492f0"
      ],
      "execution_count": 1,
      "outputs": []
    }
  ]
}